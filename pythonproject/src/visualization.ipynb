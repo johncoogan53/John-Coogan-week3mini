{
 "cells": [
  {
   "cell_type": "code",
   "execution_count": 14,
   "metadata": {},
   "outputs": [],
   "source": [
    "import pythonproject.src.lib1 as lib1\n",
    "import matplotlib.pyplot as plt"
   ]
  },
  {
   "cell_type": "code",
   "execution_count": 22,
   "metadata": {},
   "outputs": [
    {
     "name": "stdout",
     "output_type": "stream",
     "text": [
      "shape: (9, 13)\n",
      "┌────────────┬─────────────┬───────────┬──────────┬───┬──────────┬──────────┬──────────┬────────┐\n",
      "│ describe   ┆ model       ┆ mpg       ┆ cyl      ┆ … ┆ vs       ┆ am       ┆ gear     ┆ carb   │\n",
      "│ ---        ┆ ---         ┆ ---       ┆ ---      ┆   ┆ ---      ┆ ---      ┆ ---      ┆ ---    │\n",
      "│ str        ┆ str         ┆ f64       ┆ f64      ┆   ┆ f64      ┆ f64      ┆ f64      ┆ f64    │\n",
      "╞════════════╪═════════════╪═══════════╪══════════╪═══╪══════════╪══════════╪══════════╪════════╡\n",
      "│ count      ┆ 32          ┆ 32.0      ┆ 32.0     ┆ … ┆ 32.0     ┆ 32.0     ┆ 32.0     ┆ 32.0   │\n",
      "│ null_count ┆ 0           ┆ 0.0       ┆ 0.0      ┆ … ┆ 0.0      ┆ 0.0      ┆ 0.0      ┆ 0.0    │\n",
      "│ mean       ┆ null        ┆ 20.090625 ┆ 6.1875   ┆ … ┆ 0.4375   ┆ 0.40625  ┆ 3.6875   ┆ 2.8125 │\n",
      "│ std        ┆ null        ┆ 6.026948  ┆ 1.785922 ┆ … ┆ 0.504016 ┆ 0.498991 ┆ 0.737804 ┆ 1.6152 │\n",
      "│ min        ┆ AMC Javelin ┆ 10.4      ┆ 4.0      ┆ … ┆ 0.0      ┆ 0.0      ┆ 3.0      ┆ 1.0    │\n",
      "│ 25%        ┆ null        ┆ 15.5      ┆ 4.0      ┆ … ┆ 0.0      ┆ 0.0      ┆ 3.0      ┆ 2.0    │\n",
      "│ 50%        ┆ null        ┆ 19.2      ┆ 6.0      ┆ … ┆ 0.0      ┆ 0.0      ┆ 4.0      ┆ 2.0    │\n",
      "│ 75%        ┆ null        ┆ 22.8      ┆ 8.0      ┆ … ┆ 1.0      ┆ 1.0      ┆ 4.0      ┆ 4.0    │\n",
      "│ max        ┆ Volvo 142E  ┆ 33.9      ┆ 8.0      ┆ … ┆ 1.0      ┆ 1.0      ┆ 5.0      ┆ 8.0    │\n",
      "└────────────┴─────────────┴───────────┴──────────┴───┴──────────┴──────────┴──────────┴────────┘\n"
     ]
    }
   ],
   "source": [
    "df = lib1.load_data_from_csv(\"https://gist.githubusercontent.com/seankross/a412dfbd88b3db70b74b/raw/5f23f993cd87c283ce766e7ac6b329ee7cc2e1d1/mtcars.csv\")\n",
    "print(lib1.summary_statistics(df))"
   ]
  },
  {
   "cell_type": "code",
   "execution_count": 12,
   "metadata": {},
   "outputs": [
    {
     "ename": "TypeError",
     "evalue": "'NoneType' object is not subscriptable",
     "output_type": "error",
     "traceback": [
      "\u001b[0;31m---------------------------------------------------------------------------\u001b[0m",
      "\u001b[0;31mTypeError\u001b[0m                                 Traceback (most recent call last)",
      "\u001b[1;32m/workspaces/John-Coogan-week3mini/pythonproject/src/visualization.ipynb Cell 3\u001b[0m line \u001b[0;36m1\n\u001b[0;32m----> <a href='vscode-notebook-cell://codespaces%2Bsturdy-palm-tree-979jp6qrgjjxcp55r/workspaces/John-Coogan-week3mini/pythonproject/src/visualization.ipynb#W2sdnNjb2RlLXJlbW90ZQ%3D%3D?line=0'>1</a>\u001b[0m plt\u001b[39m.\u001b[39mscatter(df[\u001b[39m\"\u001b[39;49m\u001b[39mdisplacement\u001b[39;49m\u001b[39m\"\u001b[39;49m], df[\u001b[39m\"\u001b[39m\u001b[39mmpg\u001b[39m\u001b[39m\"\u001b[39m], alpha\u001b[39m=\u001b[39m\u001b[39m0.5\u001b[39m)\n\u001b[1;32m      <a href='vscode-notebook-cell://codespaces%2Bsturdy-palm-tree-979jp6qrgjjxcp55r/workspaces/John-Coogan-week3mini/pythonproject/src/visualization.ipynb#W2sdnNjb2RlLXJlbW90ZQ%3D%3D?line=1'>2</a>\u001b[0m plt\u001b[39m.\u001b[39mtitle(\u001b[39m\"\u001b[39m\u001b[39mVehicle MPG vs Displacement\u001b[39m\u001b[39m\"\u001b[39m)\n\u001b[1;32m      <a href='vscode-notebook-cell://codespaces%2Bsturdy-palm-tree-979jp6qrgjjxcp55r/workspaces/John-Coogan-week3mini/pythonproject/src/visualization.ipynb#W2sdnNjb2RlLXJlbW90ZQ%3D%3D?line=2'>3</a>\u001b[0m plt\u001b[39m.\u001b[39mxlabel(\u001b[39m\"\u001b[39m\u001b[39mDisplacement\u001b[39m\u001b[39m\"\u001b[39m)\n",
      "\u001b[0;31mTypeError\u001b[0m: 'NoneType' object is not subscriptable"
     ]
    }
   ],
   "source": [
    "plt.scatter(df[\"displacement\"], df[\"mpg\"], alpha=0.5)\n",
    "plt.title(\"Vehicle MPG vs Displacement\")\n",
    "plt.xlabel(\"Displacement\")\n",
    "plt.ylabel(\"MPG\")\n",
    "plt.show()"
   ]
  }
 ],
 "metadata": {
  "kernelspec": {
   "display_name": "venv",
   "language": "python",
   "name": "python3"
  },
  "language_info": {
   "codemirror_mode": {
    "name": "ipython",
    "version": 3
   },
   "file_extension": ".py",
   "mimetype": "text/x-python",
   "name": "python",
   "nbconvert_exporter": "python",
   "pygments_lexer": "ipython3",
   "version": "3.11.4"
  },
  "orig_nbformat": 4
 },
 "nbformat": 4,
 "nbformat_minor": 2
}
